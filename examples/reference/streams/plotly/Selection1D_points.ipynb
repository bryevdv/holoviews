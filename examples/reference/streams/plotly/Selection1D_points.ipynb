{
 "cells": [
  {
   "cell_type": "markdown",
   "metadata": {},
   "source": [
    "#### **Title**: Point Selection1D stream example\n",
    "\n",
    "**Description**: A linked streams example demonstrating how to use Selection1D to get currently selected points and dynamically compute statistics of selection.\n",
    "\n",
    "**Dependencies**: Plotly\n",
    "\n",
    "**Backends**: [Plotly](./Selection1D_points.ipynb), [Bokeh](../bokeh/Selection1D_points.ipynb)"
   ]
  },
  {
   "cell_type": "code",
   "execution_count": null,
   "metadata": {},
   "outputs": [],
   "source": [
    "import numpy as np\n",
    "import holoviews as hv\n",
    "from holoviews import streams\n",
    "hv.extension('plotly')"
   ]
  },
  {
   "cell_type": "code",
   "execution_count": null,
   "metadata": {},
   "outputs": [],
   "source": [
    "# Declare some points\n",
    "points = hv.Points(np.random.randn(1000,2 ))\n",
    "\n",
    "# Declare points as source of selection stream\n",
    "selection = streams.Selection1D(source=points)\n",
    "\n",
    "# Write function that uses the selection indices to slice points and compute stats\n",
    "def selected_info(index):\n",
    "    selected = points.iloc[index]\n",
    "    if index:\n",
    "        label = 'Mean x, y: %.3f, %.3f' % tuple(selected.array().mean(axis=0))\n",
    "    else:\n",
    "        label = 'No selection'\n",
    "    return selected.relabel(label).opts(color='red')\n",
    "\n",
    "# Combine points and DynamicMap\n",
    "layout = points + hv.DynamicMap(selected_info, streams=[selection])\n",
    "layout"
   ]
  },
  {
   "cell_type": "markdown",
   "metadata": {},
   "source": [
    "<center><img src=\"https://assets.holoviews.org/gifs/examples/streams/plotly/point_selection1d.gif\" width=600></center>"
   ]
  },
  {
   "cell_type": "markdown",
   "source": [
    "This example can also be displayed using [Plotly Dash](https://dash.plotly.com/):\n",
    "\n",
    "```python\n",
    "from holoviews.plotting.plotly.dash import holoviews_to_dash\n",
    "import dash\n",
    "import dash_html_components as html\n",
    "\n",
    "# Create App\n",
    "external_stylesheets = ['https://codepen.io/chriddyp/pen/bWLwgP.css']\n",
    "app = dash.Dash(__name__, external_stylesheets=external_stylesheets)\n",
    "\n",
    "# Dash display\n",
    "components = holoviews_to_dash(\n",
    "    app, [layout], reset_button=True\n",
    ")\n",
    "\n",
    "app.layout = html.Div(\n",
    "    [components.graphs[0], components.resets[0], components.store]\n",
    ")\n",
    "\n",
    "if __name__ == '__main__':\n",
    "    app.run_server(debug=True)\n",
    "```"
   ],
   "metadata": {
    "collapsed": false
   }
  }
 ],
 "metadata": {
  "language_info": {
   "name": "python",
   "pygments_lexer": "ipython3"
  }
 },
 "nbformat": 4,
 "nbformat_minor": 4
}
