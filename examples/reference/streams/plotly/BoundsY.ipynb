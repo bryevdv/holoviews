{
 "cells": [
  {
   "cell_type": "markdown",
   "metadata": {},
   "source": [
    "#### **Title**: BoundsY stream example\n",
    "\n",
    "**Description**: A linked streams example demonstrating how to use BoundsY streams.\n",
    "\n",
    "**Dependencies** Plotly\n",
    "\n",
    "**Backends** [Plotly](./BoundsY.ipynb), [Bokeh](../bokeh/BoundsY.ipynb)"
   ]
  },
  {
   "cell_type": "code",
   "execution_count": null,
   "metadata": {},
   "outputs": [],
   "source": [
    "import numpy as np\n",
    "import holoviews as hv\n",
    "from holoviews import opts, streams\n",
    "\n",
    "hv.extension('plotly')"
   ]
  },
  {
   "cell_type": "code",
   "execution_count": null,
   "metadata": {},
   "outputs": [],
   "source": [
    "xs = np.linspace(0, 1, 200)\n",
    "ys = xs*(1-xs)\n",
    "curve = hv.Curve((xs,ys))\n",
    "scatter = hv.Scatter((xs,ys)).opts(size=1)\n",
    "\n",
    "bounds_stream = streams.BoundsY(source=curve,boundsy=(0,0))\n",
    "\n",
    "def make_area(boundsy):\n",
    "    return hv.Area((xs, np.minimum(ys, boundsy[0]), np.minimum(ys, boundsy[1])), vdims=['min','max'])\n",
    "\n",
    "\n",
    "def make_items(boundsy):\n",
    "    times = [\"{0:.2f}\".format(x) for x in sorted(np.roots([-1,1,-boundsy[0]])) + sorted(np.roots([-1,1,-boundsy[1]]))]\n",
    "    return hv.ItemTable(sorted(zip(['1_entry', '2_exit', '1_exit', '2_entry'], times)))\n",
    "\n",
    "area_dmap = hv.DynamicMap(make_area, streams=[bounds_stream])\n",
    "table_dmap = hv.DynamicMap(make_items, streams=[bounds_stream])\n",
    "\n",
    "layout = (curve * scatter * area_dmap + table_dmap)\n",
    "layout"
   ]
  },
  {
   "cell_type": "markdown",
   "metadata": {},
   "source": [
    "<center><img src=\"https://assets.holoviews.org/gifs/examples/streams/plotly/boundsy_selection.gif\"></center>"
   ]
  },
  {
   "cell_type": "markdown",
   "source": [
    "This example can also be displayed using [Plotly Dash](https://dash.plotly.com/):\n",
    "\n",
    "```python\n",
    "from holoviews.plotting.plotly.dash import holoviews_to_dash\n",
    "import dash\n",
    "import dash_html_components as html\n",
    "\n",
    "# Create App\n",
    "external_stylesheets = ['https://codepen.io/chriddyp/pen/bWLwgP.css']\n",
    "app = dash.Dash(__name__, external_stylesheets=external_stylesheets)\n",
    "\n",
    "# Dash display\n",
    "components = holoviews_to_dash(\n",
    "    app, [layout], reset_button=True\n",
    ")\n",
    "\n",
    "app.layout = html.Div(\n",
    "    [components.graphs[0], components.resets[0], components.store]\n",
    ")\n",
    "\n",
    "if __name__ == '__main__':\n",
    "    app.run_server(debug=True)\n",
    "```"
   ],
   "metadata": {
    "collapsed": false
   }
  }
 ],
 "metadata": {
  "language_info": {
   "name": "python",
   "pygments_lexer": "ipython3"
  }
 },
 "nbformat": 4,
 "nbformat_minor": 4
}
