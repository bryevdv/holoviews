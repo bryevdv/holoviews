{
 "cells": [
  {
   "cell_type": "markdown",
   "metadata": {},
   "source": [
    "#### **Title**: BoundsX stream example\n",
    "\n",
    "**Description**: A linked streams example demonstrating how to use BoundsX streams.\n",
    "\n",
    "**Dependencies**: Plotly\n",
    "\n",
    "**Backends**: [Plotly](./BoundsX.ipynb), [Bokeh](../bokeh/BoundsX.ipynb)"
   ]
  },
  {
   "cell_type": "code",
   "execution_count": null,
   "metadata": {},
   "outputs": [],
   "source": [
    "import pandas as pd\n",
    "import numpy as np\n",
    "import holoviews as hv\n",
    "from holoviews import streams\n",
    "hv.extension('plotly')"
   ]
  },
  {
   "cell_type": "code",
   "execution_count": null,
   "metadata": {},
   "outputs": [],
   "source": [
    "n=200\n",
    "np.random.seed(20)\n",
    "xs = np.linspace(0, 1, n)\n",
    "ys = np.cumsum(np.random.randn(n))\n",
    "df = pd.DataFrame({'x': xs, 'y': ys})\n",
    "curve = hv.Scatter(df)\n",
    "\n",
    "def make_from_boundsx(boundsx):\n",
    "    sub = df.set_index('x').loc[boundsx[0]:boundsx[1]]\n",
    "    return hv.Table(sub.describe().reset_index().values, 'stat', 'value')\n",
    "\n",
    "dmap = hv.DynamicMap(make_from_boundsx, streams=[streams.BoundsX(source=curve, boundsx=(0,0))])\n",
    "\n",
    "layout = curve + dmap\n",
    "layout"
   ]
  },
  {
   "cell_type": "markdown",
   "metadata": {},
   "source": [
    "<center><img src=\"https://assets.holoviews.org/gifs/examples/streams/plotly/boundsx_selection.gif\"></center>"
   ]
  },
  {
   "cell_type": "markdown",
   "source": [
    "This example can also be displayed using [Plotly Dash](https://dash.plotly.com/):\n",
    "\n",
    "```python\n",
    "from holoviews.plotting.plotly.dash import holoviews_to_dash\n",
    "import dash\n",
    "import dash_html_components as html\n",
    "\n",
    "# Create App\n",
    "external_stylesheets = ['https://codepen.io/chriddyp/pen/bWLwgP.css']\n",
    "app = dash.Dash(__name__, external_stylesheets=external_stylesheets)\n",
    "\n",
    "# Dash display\n",
    "components = holoviews_to_dash(\n",
    "    app, [layout], reset_button=True\n",
    ")\n",
    "\n",
    "app.layout = html.Div(\n",
    "    [components.graphs[0], components.resets[0], components.store]\n",
    ")\n",
    "\n",
    "if __name__ == '__main__':\n",
    "    app.run_server(debug=True)\n",
    "```"
   ],
   "metadata": {
    "collapsed": false
   }
  }
 ],
 "metadata": {
  "language_info": {
   "name": "python",
   "pygments_lexer": "ipython3"
  }
 },
 "nbformat": 4,
 "nbformat_minor": 4
}
