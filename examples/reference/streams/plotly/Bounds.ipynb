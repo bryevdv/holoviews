{
 "cells": [
  {
   "cell_type": "markdown",
   "metadata": {},
   "source": [
    "#### **Title**: Bounds & selection stream example\n",
    "\n",
    "**Description**: A linked streams example demonstrating how to use Bounds and Selection streams together.\n",
    "\n",
    "**Dependencies**: Plotly\n",
    "\n",
    "**Backends**: [Plotly](./Bounds.ipynb), [Bokeh](../bokeh/Bounds.ipynb)"
   ]
  },
  {
   "cell_type": "code",
   "execution_count": null,
   "metadata": {},
   "outputs": [],
   "source": [
    "import numpy as np\n",
    "import holoviews as hv\n",
    "from holoviews import opts\n",
    "from holoviews import streams\n",
    "hv.extension('plotly')"
   ]
  },
  {
   "cell_type": "code",
   "execution_count": null,
   "metadata": {},
   "outputs": [],
   "source": [
    "opts.defaults(opts.Histogram(framewise=True))\n",
    "\n",
    "# Declare distribution of Points\n",
    "points = hv.Points(np.random.multivariate_normal((0, 0), [[1, 0.1], [0.1, 1]], (1000,)))\n",
    "\n",
    "# Declare points selection selection\n",
    "sel = streams.Selection1D(source=points)\n",
    "\n",
    "# Declare DynamicMap computing mean y-value of selection\n",
    "mean_sel = hv.DynamicMap(lambda index: hv.HLine(points['y'][index].mean() if index else -10),\n",
    "                         kdims=[], streams=[sel])\n",
    "\n",
    "# Declare a Bounds stream and DynamicMap to get box_select geometry and draw it\n",
    "box = streams.BoundsXY(source=points, bounds=(0,0,0,0))\n",
    "bounds = hv.DynamicMap(lambda bounds: hv.Bounds(bounds), streams=[box])\n",
    "\n",
    "# Declare DynamicMap to apply bounds selection\n",
    "dmap = hv.DynamicMap(lambda bounds: points.select(x=(bounds[0], bounds[2]),\n",
    "                                                  y=(bounds[1], bounds[3])),\n",
    "                     streams=[box])\n",
    "\n",
    "# Compute histograms of selection along x-axis and y-axis\n",
    "yhist = hv.operation.histogram(dmap, bin_range=points.range('y'), dimension='y', dynamic=True, normed=False)\n",
    "xhist = hv.operation.histogram(dmap, bin_range=points.range('x'), dimension='x', dynamic=True, normed=False)\n",
    "\n",
    "# Combine components and display\n",
    "layout = points * mean_sel * bounds << yhist << xhist\n",
    "layout"
   ]
  },
  {
   "cell_type": "markdown",
   "metadata": {},
   "source": [
    "<center><img src=\"https://assets.holoviews.org/gifs/examples/streams/plotly/bounds_selection.gif\" width=400></center>"
   ]
  },
  {
   "cell_type": "markdown",
   "source": [
    "This example can also be displayed using [Plotly Dash](https://dash.plotly.com/):\n",
    "\n",
    "```python\n",
    "from holoviews.plotting.plotly.dash import holoviews_to_dash\n",
    "import dash\n",
    "import dash_html_components as html\n",
    "\n",
    "# Create App\n",
    "external_stylesheets = ['https://codepen.io/chriddyp/pen/bWLwgP.css']\n",
    "app = dash.Dash(__name__, external_stylesheets=external_stylesheets)\n",
    "\n",
    "# Dash display\n",
    "components = holoviews_to_dash(\n",
    "    app, [layout], reset_button=True\n",
    ")\n",
    "\n",
    "app.layout = html.Div(\n",
    "    [components.graphs[0], components.resets[0], components.store]\n",
    ")\n",
    "\n",
    "if __name__ == '__main__':\n",
    "    app.run_server(debug=True)\n",
    "```"
   ],
   "metadata": {
    "collapsed": false
   }
  }
 ],
 "metadata": {
  "language_info": {
   "name": "python",
   "pygments_lexer": "ipython3"
  }
 },
 "nbformat": 4,
 "nbformat_minor": 4
}
